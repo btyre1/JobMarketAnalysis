{
 "cells": [
  {
   "cell_type": "code",
   "execution_count": 1,
   "id": "70b58713",
   "metadata": {},
   "outputs": [],
   "source": [
    "import pandas as pd\n",
    "\n",
    "df = pd.read_csv(\"../data/linkedin-job-postings/jobs/job_skills.csv\")"
   ]
  },
  {
   "cell_type": "code",
   "execution_count": 2,
   "id": "1c533892",
   "metadata": {},
   "outputs": [
    {
     "name": "stdout",
     "output_type": "stream",
     "text": [
      "            job_id skill_abr\n",
      "0       3884428798      MRKT\n",
      "1       3884428798        PR\n",
      "2       3884428798       WRT\n",
      "3       3887473071      SALE\n",
      "4       3887465684       FIN\n",
      "...            ...       ...\n",
      "213763  3902876855        HR\n",
      "213764  3902878689      MGMT\n",
      "213765  3902878689      MNFC\n",
      "213766  3902883233      SALE\n",
      "213767  3902883233      MGMT\n",
      "\n",
      "[213768 rows x 2 columns]\n"
     ]
    }
   ],
   "source": [
    "print(df)"
   ]
  },
  {
   "cell_type": "code",
   "execution_count": 1,
   "id": "e16ce1cb-75b5-4616-b641-a6e58b454f3b",
   "metadata": {},
   "outputs": [
    {
     "name": "stdout",
     "output_type": "stream",
     "text": [
      "/Users/brycetyre/GitHub/JobMarketAnalysis/venv/bin/python\n"
     ]
    }
   ],
   "source": [
    "import sys\n",
    "print(sys.executable)"
   ]
  },
  {
   "cell_type": "code",
   "execution_count": null,
   "id": "b52c00e0-f669-44f4-a4ea-1780df4b2453",
   "metadata": {},
   "outputs": [],
   "source": []
  }
 ],
 "metadata": {
  "kernelspec": {
   "display_name": "Python (jobmarket-env)",
   "language": "python",
   "name": "jobmarket-env"
  },
  "language_info": {
   "codemirror_mode": {
    "name": "ipython",
    "version": 3
   },
   "file_extension": ".py",
   "mimetype": "text/x-python",
   "name": "python",
   "nbconvert_exporter": "python",
   "pygments_lexer": "ipython3",
   "version": "3.13.1"
  }
 },
 "nbformat": 4,
 "nbformat_minor": 5
}
